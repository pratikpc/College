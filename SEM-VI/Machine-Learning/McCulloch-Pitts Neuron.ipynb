{
 "cells": [
  {
   "cell_type": "code",
   "execution_count": 2,
   "metadata": {},
   "outputs": [],
   "source": [
    "def And(x):\n",
    "    # Assume all weights = 1\n",
    "    return sum(x) == len(x)"
   ]
  },
  {
   "cell_type": "code",
   "execution_count": 8,
   "metadata": {},
   "outputs": [],
   "source": [
    "def Or(x):\n",
    "    # Assume all weights = 1\n",
    "    return sum(x) > 0"
   ]
  },
  {
   "cell_type": "code",
   "execution_count": 14,
   "metadata": {},
   "outputs": [],
   "source": [
    "def Not(x):\n",
    "    # Assume all weights = 1\n",
    "    return x > 0"
   ]
  },
  {
   "cell_type": "code",
   "execution_count": 30,
   "metadata": {},
   "outputs": [],
   "source": [
    "def Nand(x):\n",
    "    # Assume all weights = 1\n",
    "    return sum(x) < len(x)"
   ]
  },
  {
   "cell_type": "code",
   "execution_count": 31,
   "metadata": {},
   "outputs": [],
   "source": [
    "def Nor(x):\n",
    "    # Assume all weights = 1\n",
    "    return sum(x) == 0"
   ]
  },
  {
   "cell_type": "code",
   "execution_count": 58,
   "metadata": {},
   "outputs": [],
   "source": [
    "def Xor(x):\n",
    "    X1 = Or(x)\n",
    "    X2 = Nand(x)\n",
    "    Y = And([X1, X2])\n",
    "    return Y"
   ]
  },
  {
   "cell_type": "code",
   "execution_count": 63,
   "metadata": {},
   "outputs": [
    {
     "name": "stdout",
     "output_type": "stream",
     "text": [
      "And True\n",
      "And False\n",
      "\n",
      "Or False\n",
      "Or True\n",
      "\n",
      "Nor True\n",
      "Nor False\n",
      "\n",
      "Xor True\n",
      "Xor False\n"
     ]
    }
   ],
   "source": [
    "print('And', And([True, True, True, True]))\n",
    "print('And', And([True, True, True, False]))\n",
    "print()\n",
    "print('Or', Or([False, False, False, False]))\n",
    "print('Or', Or([True, True, True, False]))\n",
    "print()\n",
    "print('Nor', Nor([False, False, False, False]))\n",
    "print('Nor', Nor([True, True, True, False]))\n",
    "print()\n",
    "print('Xor', Xor([False, True]))\n",
    "print('Xor', Xor([True, True]))"
   ]
  },
  {
   "cell_type": "code",
   "execution_count": null,
   "metadata": {},
   "outputs": [],
   "source": []
  }
 ],
 "metadata": {
  "kernelspec": {
   "display_name": "Python 3",
   "language": "python",
   "name": "python3"
  },
  "language_info": {
   "codemirror_mode": {
    "name": "ipython",
    "version": 3
   },
   "file_extension": ".py",
   "mimetype": "text/x-python",
   "name": "python",
   "nbconvert_exporter": "python",
   "pygments_lexer": "ipython3",
   "version": "3.7.6"
  }
 },
 "nbformat": 4,
 "nbformat_minor": 4
}
